{
 "cells": [
  {
   "cell_type": "code",
   "execution_count": 17,
   "metadata": {
    "collapsed": false
   },
   "outputs": [],
   "source": [
    "import abc\n",
    "import random\n",
    "import copy"
   ]
  },
  {
   "cell_type": "code",
   "execution_count": 18,
   "metadata": {
    "collapsed": false
   },
   "outputs": [],
   "source": [
    "class Game:\n",
    "    \"\"\"A game is similar to a problem, but it has a utility for each\n",
    "    state and a terminal test instead of a path cost and a goal\n",
    "    test. To create a game, subclass this class and implement\n",
    "    legal_moves, make_move, utility, and terminal_test. You may\n",
    "    override display and successors or you can inherit their default\n",
    "    methods. You will also need to set the .initial attribute to the\n",
    "    initial state; this can be done in the constructor.\"\"\"\n",
    "    @abc.abstractmethod\n",
    "    def legal_moves(self, state):\n",
    "        \"Return a list of the allowable moves at this point.\"\n",
    "    @abc.abstractmethod\n",
    "    def make_move(self, move, state):\n",
    "        \"Return the state that results from making a move from a state.\"\n",
    "    @abc.abstractmethod\n",
    "    def utility(self, state, player):\n",
    "        \"Return the value of this final state to player.\"\n",
    "    @abc.abstractmethod\n",
    "    def terminal_test(self, state):\n",
    "        \"Return True if this is a final state for the game.\"\n",
    "        return not self.legal_moves(state)\n",
    "    def to_move(self, state):\n",
    "        \"Return the player whose move it is in this state.\"\n",
    "        return state.to_move\n",
    "    def display(self, state):\n",
    "        \"Print or otherwise display the state.\"\n",
    "        print state\n",
    "    def successors(self, state):\n",
    "        \"Return a list of legal (move, state) pairs.\"\n",
    "        return [(move, self.make_move(move, state))\n",
    "                for move in self.legal_moves(state)]\n",
    "    def __repr__(self):\n",
    "        return '<%s>' % self.__class__.__name__"
   ]
  },
  {
   "cell_type": "code",
   "execution_count": 19,
   "metadata": {
    "collapsed": true
   },
   "outputs": [],
   "source": [
    "def argmin(seq, fn):\n",
    "    \"\"\"Return an element with lowest fn(seq[i]) score; tie goes to first one.\n",
    "    >>> argmin(['one', 'to', 'three'], len)\n",
    "    'to'\n",
    "    \"\"\"\n",
    "    best = seq[0]; best_score = fn(best)\n",
    "    for x in seq:\n",
    "        x_score = fn(x)\n",
    "        if x_score < best_score:\n",
    "            best, best_score = x, x_score\n",
    "    return best\n",
    "def argmax(seq, fn):\n",
    "    \"\"\"Return an element with highest fn(seq[i]) score; tie goes to first one.\n",
    "    >>> argmax(['one', 'to', 'three'], len)\n",
    "    'three'\n",
    "    \"\"\"\n",
    "    return argmin(seq, lambda x: -fn(x))"
   ]
  },
  {
   "cell_type": "code",
   "execution_count": 20,
   "metadata": {
    "collapsed": false
   },
   "outputs": [],
   "source": [
    "def alphabeta_search(state, game, d=float('inf'), cutoff_test=None, eval_fn=None):\n",
    "        \"\"\"Search game to determine best action; use alpha-beta pruning.\n",
    "        This version cuts off search and uses an evaluation function.\"\"\"\n",
    "        player = game.to_move(state)\n",
    "        def max_value(state, alpha, beta, depth):\n",
    "            if cutoff_test != None:\n",
    "                return eval_fn(state, player)\n",
    "            v = eval_fn(state, player)\n",
    "            for (a, s) in game.successors(state):\n",
    "                v = max(v, min_value(s, alpha, beta, depth+1))\n",
    "                if v >= beta:\n",
    "                    return v\n",
    "                alpha = max(alpha, v)\n",
    "            return v\n",
    "    \n",
    "        def min_value(state, alpha, beta, depth):\n",
    "            if cutoff_test != None:\n",
    "                return eval_fn(state, player)\n",
    "            v = eval_fn(state, player)\n",
    "            for (a, s) in game.successors(state):\n",
    "                v = min(v, max_value(s, alpha, beta, depth+1))\n",
    "                if v <= alpha:\n",
    "                    return v\n",
    "                beta = min(beta, v)\n",
    "            return v\n",
    "    \n",
    "        # Body of alphabeta_search starts here:\n",
    "        # The default test cuts off at depth d or at a terminal state\n",
    "        cutoff_test = (cutoff_test or\n",
    "                       (lambda state,depth: depth>d or game.terminal_test(state)))\n",
    "        eval_fn = eval_fn or (lambda state, player: game.utility(state, player))\n",
    "        action, state = argmax(game.successors(state),\n",
    "                               lambda ((a, s)): min_value(s, -float('inf'), float('inf'), 0))\n",
    "        print(action)\n",
    "        return action"
   ]
  },
  {
   "cell_type": "code",
   "execution_count": 21,
   "metadata": {
    "collapsed": true
   },
   "outputs": [],
   "source": [
    "def isnumber(x):\n",
    "    \"Is x a number? We say it is if it has a __int__ method.\"\n",
    "    return hasattr(x, '__int__')\n",
    "    \n",
    "def num_or_str(x):\n",
    "    \"\"\"The argument is a string; convert to a number if possible, or strip it.\n",
    "    >>> num_or_str('42')\n",
    "    42\n",
    "    >>> num_or_str(' 42x ')\n",
    "    '42x'\n",
    "    \"\"\"\n",
    "    if isnumber(x): return x\n",
    "    elif(',' in x):\n",
    "        x = x.replace('(', '').replace(')', '')\n",
    "        splitArray = x.split(',')\n",
    "        return (int(splitArray[0].replace(',', '')), int(splitArray[1].replace(',', '')))\n",
    "    try:\n",
    "        return int(x)\n",
    "    except ValueError:\n",
    "        try:\n",
    "            return float(x)\n",
    "        except ValueError:\n",
    "                return str(x).strip()"
   ]
  },
  {
   "cell_type": "code",
   "execution_count": 22,
   "metadata": {
    "collapsed": false
   },
   "outputs": [],
   "source": [
    "def query_player(game, state):\n",
    "        \"Make a move by querying standard input.\"\n",
    "        return num_or_str(raw_input('Your move? '))\n",
    "    \n",
    "def random_player(game, state):\n",
    "        \"A player that chooses a legal move at random.\"\n",
    "        return random.choice(game.legal_moves(state))\n",
    "    \n",
    "def alphabeta_player(game, state):\n",
    "    return alphabeta_search(state, game)\n",
    "\n",
    "def smart_player_last_stone(game, state):\n",
    "    return alphabeta_search(state, game, float('inf'),None, eval_fn_last_stone)\n",
    "    \n",
    "def smart_player_three_last_stone(game, state):\n",
    "    return alphabeta_search(state, game, float('inf'),None, eval_fn_three_heap_last_stone)\n",
    "    \n",
    "def smart_player_open_field_tic_tac_toe( game, state):\n",
    "    return alphabeta_search(state, game, float('inf'),None, eval_fn_three_heap_last_stone)"
   ]
  },
  {
   "cell_type": "code",
   "execution_count": 23,
   "metadata": {
    "collapsed": true
   },
   "outputs": [],
   "source": [
    "'''Function based on Nim Sum algorithm'''\n",
    "def eval_fn_last_stone(state, player):\n",
    "    binaryRepresentation = list('{0:0b}'.format(state.heap))\n",
    "        \n",
    "    count = 1\n",
    "    if(binaryRepresentation ==['0']):\n",
    "        return 2\n",
    "    while count < len(binaryRepresentation):\n",
    "            \n",
    "        if(binaryRepresentation[count] != '0'):\n",
    "            return 0\n",
    "            \n",
    "        count+= 1\n",
    "        \n",
    "    return 1\n",
    "    \n",
    "'''Function based on Nim Sum algorithm'''\n",
    "def eval_fn_three_heap_last_stone(state, player):\n",
    "    binaryRepresentationFirst = list('{0:0b}'.format(state.heaps[0]))\n",
    "    binaryRepresentationSecond = list('{0:0b}'.format(state.heaps[1]))\n",
    "    binaryRepresentationThird = list('{0:0b}'.format(state.heaps[2]))\n",
    "        \n",
    "    count = 1\n",
    "        \n",
    "    moveableValue = False\n",
    "    if(binaryRepresentationFirst == binaryRepresentationSecond):\n",
    "        if(binaryRepresentationThird ==['0']):\n",
    "            return 2\n",
    "        while count < len(binaryRepresentationThird):\n",
    "            \n",
    "            if(binaryRepresentationThird[count] != '0'):\n",
    "                return 0\n",
    "                \n",
    "            count+= 1\n",
    "    elif(binaryRepresentationSecond == binaryRepresentationThird):\n",
    "        if(binaryRepresentationFirst ==['0']):\n",
    "            return 2\n",
    "        while count < len(binaryRepresentationFirst):\n",
    "            \n",
    "            if(binaryRepresentationFirst[count] != '0'):\n",
    "                return 0\n",
    "                \n",
    "            count+= 1\n",
    "    elif(binaryRepresentationFirst == binaryRepresentationThird):\n",
    "        if(binaryRepresentationSecond ==['0']):\n",
    "            return 2\n",
    "        while count < len(binaryRepresentationSecond):\n",
    "            \n",
    "            if(binaryRepresentationSecond[count] != '0'):\n",
    "                return 0\n",
    "                \n",
    "            count+= 1\n",
    "    else:\n",
    "            \n",
    "        binaryRepresentationFirst.reverse()\n",
    "        binaryRepresentationSecond.reverse()\n",
    "        binaryRepresentationThird.reverse()\n",
    "            \n",
    "        count = 0\n",
    "        while(count < max(len(binaryRepresentationFirst),len(binaryRepresentationSecond),len(binaryRepresentationThird)) and not moveableValue):\n",
    "            aux = 0;\n",
    "            if(len(binaryRepresentationFirst) > count):\n",
    "                aux += float(binaryRepresentationFirst[count])\n",
    "            if(len(binaryRepresentationSecond) > count):\n",
    "                aux += float(binaryRepresentationSecond[count])\n",
    "            if(len(binaryRepresentationThird) > count):\n",
    "                aux += float(binaryRepresentationThird[count])\n",
    "                \n",
    "            aux = int(aux%2)\n",
    "                \n",
    "            if(aux != 0):\n",
    "                return 0\n",
    "                \n",
    "            count += 1\n",
    "        \n",
    "    return 1"
   ]
  },
  {
   "cell_type": "code",
   "execution_count": 24,
   "metadata": {
    "collapsed": true
   },
   "outputs": [],
   "source": [
    "def play_game(game, *players):\n",
    "        \"Play an n-person, move-alternating game.\"\n",
    "        state = game.initial\n",
    "        print(state)\n",
    "        while True:\n",
    "            for player in players:\n",
    "                print str(player)\n",
    "                move = player(game, state)\n",
    "                state = game.make_move(move, state)\n",
    "                print(state)\n",
    "                if game.terminal_test(state):\n",
    "                    return game.utility(state, 0)"
   ]
  },
  {
   "cell_type": "code",
   "execution_count": 25,
   "metadata": {
    "collapsed": true
   },
   "outputs": [],
   "source": [
    "class Struct:\n",
    "    \"\"\"Create an instance with argument=value slots.\n",
    "    This is for making a lightweight object whose class doesn't matter.\"\"\"\n",
    "    def __init__(self, **entries):\n",
    "        self.__dict__.update(entries)\n",
    "\n",
    "    def __cmp__(self, other):\n",
    "        if isinstance(other, Struct):\n",
    "            return cmp(self.__dict__, other.__dict__)\n",
    "        else:\n",
    "            return cmp(self.__dict__, other)\n",
    "\n",
    "    def __repr__(self):\n",
    "        args = ['%s=%s' % (k, repr(v)) for (k, v) in vars(self).items()]\n",
    "        return 'Struct(%s)' % ', '.join(args)"
   ]
  },
  {
   "cell_type": "code",
   "execution_count": 26,
   "metadata": {
    "collapsed": true
   },
   "outputs": [],
   "source": [
    "class LastStone(Game):\n",
    "    def __init__(self, stones):\n",
    "        self.initial = Struct(to_move=0, heap = stones)\n",
    "\n",
    "    def legal_moves(self, state):\n",
    "        \"Return a list of the allowable moves at this point.\"\n",
    "        return range(1, min(3, state.heap) + 1)\n",
    "\n",
    "    def make_move(self, move, state):\n",
    "        \"Return the state that results from making a move from a state.\"\n",
    "        return Struct(to_move = 1 - state.to_move,\n",
    "                      heap = state.heap - move)\n",
    "        \n",
    "    def utility(self, state, player):\n",
    "        \"Return the value of this final state to player.\"\n",
    "        if state.to_move == player:\n",
    "            return -1\n",
    "        else:\n",
    "            return 1\n",
    "\n",
    "    def terminal_test(self, state):\n",
    "        \"Return True if this is a final state for the game.\"\n",
    "        return not self.legal_moves(state)\n",
    "\n",
    "    def to_move(self, state):\n",
    "        \"Return the player whose move it is in this state.\"\n",
    "        return state.to_move\n",
    "\n",
    "    def display(self, state):\n",
    "        \"Print or otherwise display the state.\"\n",
    "        print state\n",
    "\n",
    "    def successors(self, state):\n",
    "        \"Return a list of legal (move, state) pairs.\"\n",
    "        return [(move, self.make_move(move, state))\n",
    "                for move in self.legal_moves(state)]"
   ]
  },
  {
   "cell_type": "code",
   "execution_count": 27,
   "metadata": {
    "collapsed": true
   },
   "outputs": [],
   "source": [
    "class ThreeHeapLastStone(Game):\n",
    "    def __init__(self, heaps):\n",
    "        self.initial = Struct(to_move=0, heaps = heaps)\n",
    "\n",
    "    def legal_moves(self, state):\n",
    "        \"Return a list of the allowable moves at this point.\"        \n",
    "        legalMoves = []\n",
    "        \n",
    "        for x in range (0,3):\n",
    "            if(state.heaps[x] != 0):\n",
    "                legalMoves.append((x,range(1, min(3, state.heaps[x]) + 1)))\n",
    "                \n",
    "        return legalMoves\n",
    "\n",
    "    def make_move(self, move, state):\n",
    "        \"Return the state that results from making a move from a state.\"\n",
    "        heaps = copy.copy(state.heaps)\n",
    "        heaps[move[0]] = state.heaps[move[0]] - move[1]\n",
    "        return Struct(to_move = 1 - state.to_move,\n",
    "                      heaps = heaps)\n",
    "        \n",
    "    def utility(self, state, player):\n",
    "        \"Return the value of this final state to player.\"\n",
    "        if state.to_move == player:\n",
    "            return -1\n",
    "        else:\n",
    "            return 1\n",
    "        \n",
    "    def terminal_test(self, state):\n",
    "        \"Return True if this is a final state for the game.\"\n",
    "        return not self.legal_moves(state)\n",
    "\n",
    "    def to_move(self, state):\n",
    "        \"Return the player whose move it is in this state.\"\n",
    "        return state.to_move\n",
    "    \n",
    "    def display(self, state):\n",
    "        \"Print or otherwise display the state.\"\n",
    "        print state\n",
    "\n",
    "    def successors(self, state):\n",
    "        \"Return a list of legal (move, state) pairs.\"\n",
    "        \n",
    "        succesorMoves = []\n",
    "        \n",
    "        for heapMoves in self.legal_moves(state):\n",
    "            for move in heapMoves[1]:\n",
    "                wholeMove = (heapMoves[0], move)\n",
    "                succesorMoves.append((wholeMove, self.make_move(wholeMove, state)))\n",
    "        return succesorMoves"
   ]
  },
  {
   "cell_type": "code",
   "execution_count": 33,
   "metadata": {
    "collapsed": true
   },
   "outputs": [],
   "source": [
    "def play():\n",
    "    result = play_game(LastStone(15), smart_player_last_stone, query_player)\n",
    "    if result == 1:\n",
    "        print \"Smart player wins\"\n",
    "    else:\n",
    "        print \"Smart player loses\"\n",
    "            \n",
    "def playTest():\n",
    "    result = play_game(LastStone(10), smart_player_last_stone, alphabeta_player)\n",
    "    if result == 1:\n",
    "        print \"Player wins\"\n",
    "    else:\n",
    "        print \"CPU wins\"\n",
    "            \n",
    "def playThreeHeapsTest():\n",
    "    result = play_game(ThreeHeapLastStone([10,10,10]), smart_player_three_last_stone, alphabeta_player)\n",
    "    if result == 1:\n",
    "        print \"Smart player wins\"\n",
    "    else:\n",
    "        print \"Smart player loses\"\n",
    "    \n",
    "def playThreeHeaps():\n",
    "    result = play_game(ThreeHeapLastStone([10,10,10]), query_player, smart_player_three_last_stone )\n",
    "    if result == 1:\n",
    "        print \"CPU wins\"\n",
    "    else:\n",
    "        print \"Player wins\"\n",
    "            \n",
    "            \n"
   ]
  },
  {
   "cell_type": "code",
   "execution_count": 32,
   "metadata": {
    "collapsed": false
   },
   "outputs": [
    {
     "name": "stdout",
     "output_type": "stream",
     "text": [
      "Struct(heaps=[10, 10, 10], to_move=0)\n",
      "<function query_player at 0x7feac3471758>\n"
     ]
    },
    {
     "ename": "KeyboardInterrupt",
     "evalue": "",
     "output_type": "error",
     "traceback": [
      "\u001b[0;31m---------------------------------------------------------------------------\u001b[0m",
      "\u001b[0;31mKeyboardInterrupt\u001b[0m                         Traceback (most recent call last)",
      "\u001b[0;32m<ipython-input-32-cff1916ccd02>\u001b[0m in \u001b[0;36m<module>\u001b[0;34m()\u001b[0m\n\u001b[0;32m----> 1\u001b[0;31m \u001b[0mplayThreeHeaps\u001b[0m\u001b[0;34m(\u001b[0m\u001b[0;34m)\u001b[0m\u001b[0;34m\u001b[0m\u001b[0m\n\u001b[0m",
      "\u001b[0;32m<ipython-input-30-e2862cb60a70>\u001b[0m in \u001b[0;36mplayThreeHeaps\u001b[0;34m()\u001b[0m\n\u001b[1;32m     21\u001b[0m \u001b[0;34m\u001b[0m\u001b[0m\n\u001b[1;32m     22\u001b[0m \u001b[0;32mdef\u001b[0m \u001b[0mplayThreeHeaps\u001b[0m\u001b[0;34m(\u001b[0m\u001b[0;34m)\u001b[0m\u001b[0;34m:\u001b[0m\u001b[0;34m\u001b[0m\u001b[0m\n\u001b[0;32m---> 23\u001b[0;31m     \u001b[0mresult\u001b[0m \u001b[0;34m=\u001b[0m \u001b[0mplay_game\u001b[0m\u001b[0;34m(\u001b[0m\u001b[0mThreeHeapLastStone\u001b[0m\u001b[0;34m(\u001b[0m\u001b[0;34m[\u001b[0m\u001b[0;36m10\u001b[0m\u001b[0;34m,\u001b[0m\u001b[0;36m10\u001b[0m\u001b[0;34m,\u001b[0m\u001b[0;36m10\u001b[0m\u001b[0;34m]\u001b[0m\u001b[0;34m)\u001b[0m\u001b[0;34m,\u001b[0m \u001b[0mquery_player\u001b[0m\u001b[0;34m,\u001b[0m \u001b[0msmart_player_three_last_stone\u001b[0m \u001b[0;34m)\u001b[0m\u001b[0;34m\u001b[0m\u001b[0m\n\u001b[0m\u001b[1;32m     24\u001b[0m     \u001b[0;32mif\u001b[0m \u001b[0mresult\u001b[0m \u001b[0;34m==\u001b[0m \u001b[0;36m1\u001b[0m\u001b[0;34m:\u001b[0m\u001b[0;34m\u001b[0m\u001b[0m\n\u001b[1;32m     25\u001b[0m         \u001b[0;32mprint\u001b[0m \u001b[0;34m\"CPU wins\"\u001b[0m\u001b[0;34m\u001b[0m\u001b[0m\n",
      "\u001b[0;32m<ipython-input-24-e13f635a4281>\u001b[0m in \u001b[0;36mplay_game\u001b[0;34m(game, *players)\u001b[0m\n\u001b[1;32m      6\u001b[0m             \u001b[0;32mfor\u001b[0m \u001b[0mplayer\u001b[0m \u001b[0;32min\u001b[0m \u001b[0mplayers\u001b[0m\u001b[0;34m:\u001b[0m\u001b[0;34m\u001b[0m\u001b[0m\n\u001b[1;32m      7\u001b[0m                 \u001b[0;32mprint\u001b[0m \u001b[0mstr\u001b[0m\u001b[0;34m(\u001b[0m\u001b[0mplayer\u001b[0m\u001b[0;34m)\u001b[0m\u001b[0;34m\u001b[0m\u001b[0m\n\u001b[0;32m----> 8\u001b[0;31m                 \u001b[0mmove\u001b[0m \u001b[0;34m=\u001b[0m \u001b[0mplayer\u001b[0m\u001b[0;34m(\u001b[0m\u001b[0mgame\u001b[0m\u001b[0;34m,\u001b[0m \u001b[0mstate\u001b[0m\u001b[0;34m)\u001b[0m\u001b[0;34m\u001b[0m\u001b[0m\n\u001b[0m\u001b[1;32m      9\u001b[0m                 \u001b[0mstate\u001b[0m \u001b[0;34m=\u001b[0m \u001b[0mgame\u001b[0m\u001b[0;34m.\u001b[0m\u001b[0mmake_move\u001b[0m\u001b[0;34m(\u001b[0m\u001b[0mmove\u001b[0m\u001b[0;34m,\u001b[0m \u001b[0mstate\u001b[0m\u001b[0;34m)\u001b[0m\u001b[0;34m\u001b[0m\u001b[0m\n\u001b[1;32m     10\u001b[0m                 \u001b[0;32mprint\u001b[0m\u001b[0;34m(\u001b[0m\u001b[0mstate\u001b[0m\u001b[0;34m)\u001b[0m\u001b[0;34m\u001b[0m\u001b[0m\n",
      "\u001b[0;32m<ipython-input-22-c5331a5d8a4c>\u001b[0m in \u001b[0;36mquery_player\u001b[0;34m(game, state)\u001b[0m\n\u001b[1;32m      1\u001b[0m \u001b[0;32mdef\u001b[0m \u001b[0mquery_player\u001b[0m\u001b[0;34m(\u001b[0m\u001b[0mgame\u001b[0m\u001b[0;34m,\u001b[0m \u001b[0mstate\u001b[0m\u001b[0;34m)\u001b[0m\u001b[0;34m:\u001b[0m\u001b[0;34m\u001b[0m\u001b[0m\n\u001b[1;32m      2\u001b[0m         \u001b[0;34m\"Make a move by querying standard input.\"\u001b[0m\u001b[0;34m\u001b[0m\u001b[0m\n\u001b[0;32m----> 3\u001b[0;31m         \u001b[0;32mreturn\u001b[0m \u001b[0mnum_or_str\u001b[0m\u001b[0;34m(\u001b[0m\u001b[0mraw_input\u001b[0m\u001b[0;34m(\u001b[0m\u001b[0;34m'Your move? '\u001b[0m\u001b[0;34m)\u001b[0m\u001b[0;34m)\u001b[0m\u001b[0;34m\u001b[0m\u001b[0m\n\u001b[0m\u001b[1;32m      4\u001b[0m \u001b[0;34m\u001b[0m\u001b[0m\n\u001b[1;32m      5\u001b[0m \u001b[0;32mdef\u001b[0m \u001b[0mrandom_player\u001b[0m\u001b[0;34m(\u001b[0m\u001b[0mgame\u001b[0m\u001b[0;34m,\u001b[0m \u001b[0mstate\u001b[0m\u001b[0;34m)\u001b[0m\u001b[0;34m:\u001b[0m\u001b[0;34m\u001b[0m\u001b[0m\n",
      "\u001b[0;32m/projects/sage/sage-7.5/local/lib/python2.7/site-packages/ipykernel/kernelbase.pyc\u001b[0m in \u001b[0;36mraw_input\u001b[0;34m(self, prompt)\u001b[0m\n\u001b[1;32m    687\u001b[0m             \u001b[0mself\u001b[0m\u001b[0;34m.\u001b[0m\u001b[0m_parent_ident\u001b[0m\u001b[0;34m,\u001b[0m\u001b[0;34m\u001b[0m\u001b[0m\n\u001b[1;32m    688\u001b[0m             \u001b[0mself\u001b[0m\u001b[0;34m.\u001b[0m\u001b[0m_parent_header\u001b[0m\u001b[0;34m,\u001b[0m\u001b[0;34m\u001b[0m\u001b[0m\n\u001b[0;32m--> 689\u001b[0;31m             \u001b[0mpassword\u001b[0m\u001b[0;34m=\u001b[0m\u001b[0mFalse\u001b[0m\u001b[0;34m,\u001b[0m\u001b[0;34m\u001b[0m\u001b[0m\n\u001b[0m\u001b[1;32m    690\u001b[0m         )\n\u001b[1;32m    691\u001b[0m \u001b[0;34m\u001b[0m\u001b[0m\n",
      "\u001b[0;32m/projects/sage/sage-7.5/local/lib/python2.7/site-packages/ipykernel/kernelbase.pyc\u001b[0m in \u001b[0;36m_input_request\u001b[0;34m(self, prompt, ident, parent, password)\u001b[0m\n\u001b[1;32m    717\u001b[0m             \u001b[0;32mexcept\u001b[0m \u001b[0mKeyboardInterrupt\u001b[0m\u001b[0;34m:\u001b[0m\u001b[0;34m\u001b[0m\u001b[0m\n\u001b[1;32m    718\u001b[0m                 \u001b[0;31m# re-raise KeyboardInterrupt, to truncate traceback\u001b[0m\u001b[0;34m\u001b[0m\u001b[0;34m\u001b[0m\u001b[0m\n\u001b[0;32m--> 719\u001b[0;31m                 \u001b[0;32mraise\u001b[0m \u001b[0mKeyboardInterrupt\u001b[0m\u001b[0;34m\u001b[0m\u001b[0m\n\u001b[0m\u001b[1;32m    720\u001b[0m             \u001b[0;32melse\u001b[0m\u001b[0;34m:\u001b[0m\u001b[0;34m\u001b[0m\u001b[0m\n\u001b[1;32m    721\u001b[0m                 \u001b[0;32mbreak\u001b[0m\u001b[0;34m\u001b[0m\u001b[0m\n",
      "\u001b[0;31mKeyboardInterrupt\u001b[0m: "
     ]
    }
   ],
   "source": [
    "playThreeHeaps()"
   ]
  },
  {
   "cell_type": "code",
   "execution_count": 34,
   "metadata": {
    "collapsed": false
   },
   "outputs": [
    {
     "name": "stdout",
     "output_type": "stream",
     "text": [
      "Struct(to_move=0, heap=15)\n",
      "<function smart_player_last_stone at 0x7feac3462de8>\n",
      "1\n",
      "Struct(to_move=1, heap=14)\n",
      "<function query_player at 0x7feac3471758>\n",
      "Your move? 1\n",
      "Struct(to_move=0, heap=13)\n",
      "<function smart_player_last_stone at 0x7feac3462de8>\n",
      "1\n",
      "Struct(to_move=1, heap=12)\n",
      "<function query_player at 0x7feac3471758>\n",
      "Your move? 3\n",
      "Struct(to_move=0, heap=9)\n",
      "<function smart_player_last_stone at 0x7feac3462de8>\n",
      "1\n",
      "Struct(to_move=1, heap=8)\n",
      "<function query_player at 0x7feac3471758>\n",
      "Your move? 2\n",
      "Struct(to_move=0, heap=6)\n",
      "<function smart_player_last_stone at 0x7feac3462de8>\n",
      "2\n",
      "Struct(to_move=1, heap=4)\n",
      "<function query_player at 0x7feac3471758>\n",
      "Your move? 1\n",
      "Struct(to_move=0, heap=3)\n",
      "<function smart_player_last_stone at 0x7feac3462de8>\n",
      "3\n",
      "Struct(to_move=1, heap=0)\n",
      "Smart player wins\n"
     ]
    }
   ],
   "source": [
    "play()"
   ]
  },
  {
   "cell_type": "code",
   "execution_count": 47,
   "metadata": {
    "collapsed": false
   },
   "outputs": [
    {
     "name": "stdout",
     "output_type": "stream",
     "text": [
      "Struct(heaps=[10, 10, 10], to_move=0)\n",
      "<function smart_player_three_last_stone at 0x7f3ce00c4398>\n",
      "(0, 2)\n",
      "Struct(heaps=[8, 10, 10], to_move=1)\n",
      "<function query_player at 0x7f3ce00a9ed8>\n",
      "Your move? (0,2)\n",
      "Struct(heaps=[6, 10, 10], to_move=0)\n",
      "<function smart_player_three_last_stone at 0x7f3ce00c4398>\n",
      "(0, 2)\n",
      "Struct(heaps=[4, 10, 10], to_move=1)\n",
      "<function query_player at 0x7f3ce00a9ed8>\n",
      "Your move? (0,3)\n",
      "Struct(heaps=[1, 10, 10], to_move=0)\n",
      "<function smart_player_three_last_stone at 0x7f3ce00c4398>\n",
      "(0, 1)\n",
      "Struct(heaps=[0, 10, 10], to_move=1)\n",
      "<function query_player at 0x7f3ce00a9ed8>\n",
      "Your move? (1,3)\n",
      "Struct(heaps=[0, 7, 10], to_move=0)\n",
      "<function smart_player_three_last_stone at 0x7f3ce00c4398>\n",
      "(2, 3)\n",
      "Struct(heaps=[0, 7, 7], to_move=1)\n",
      "<function query_player at 0x7f3ce00a9ed8>\n",
      "Your move? (0,1)\n",
      "Struct(heaps=[-1, 7, 7], to_move=0)\n",
      "<function smart_player_three_last_stone at 0x7f3ce00c4398>\n"
     ]
    },
    {
     "ename": "ValueError",
     "evalue": "could not convert string to float: -",
     "output_type": "error",
     "traceback": [
      "\u001b[0;31m---------------------------------------------------------------------------\u001b[0m",
      "\u001b[0;31mValueError\u001b[0m                                Traceback (most recent call last)",
      "\u001b[0;32m<ipython-input-47-cff1916ccd02>\u001b[0m in \u001b[0;36m<module>\u001b[0;34m()\u001b[0m\n\u001b[0;32m----> 1\u001b[0;31m \u001b[0mplayThreeHeaps\u001b[0m\u001b[0;34m(\u001b[0m\u001b[0;34m)\u001b[0m\u001b[0;34m\u001b[0m\u001b[0m\n\u001b[0m",
      "\u001b[0;32m<ipython-input-45-617796b6b10a>\u001b[0m in \u001b[0;36mplayThreeHeaps\u001b[0;34m()\u001b[0m\n\u001b[1;32m     21\u001b[0m \u001b[0;34m\u001b[0m\u001b[0m\n\u001b[1;32m     22\u001b[0m \u001b[0;32mdef\u001b[0m \u001b[0mplayThreeHeaps\u001b[0m\u001b[0;34m(\u001b[0m\u001b[0;34m)\u001b[0m\u001b[0;34m:\u001b[0m\u001b[0;34m\u001b[0m\u001b[0m\n\u001b[0;32m---> 23\u001b[0;31m     \u001b[0mresult\u001b[0m \u001b[0;34m=\u001b[0m \u001b[0mplay_game\u001b[0m\u001b[0;34m(\u001b[0m\u001b[0mThreeHeapLastStone\u001b[0m\u001b[0;34m(\u001b[0m\u001b[0;34m[\u001b[0m\u001b[0;36m10\u001b[0m\u001b[0;34m,\u001b[0m\u001b[0;36m10\u001b[0m\u001b[0;34m,\u001b[0m\u001b[0;36m10\u001b[0m\u001b[0;34m]\u001b[0m\u001b[0;34m)\u001b[0m\u001b[0;34m,\u001b[0m \u001b[0msmart_player_three_last_stone\u001b[0m\u001b[0;34m,\u001b[0m \u001b[0mquery_player\u001b[0m\u001b[0;34m)\u001b[0m\u001b[0;34m\u001b[0m\u001b[0m\n\u001b[0m\u001b[1;32m     24\u001b[0m     \u001b[0;32mif\u001b[0m \u001b[0mresult\u001b[0m \u001b[0;34m==\u001b[0m \u001b[0;36m1\u001b[0m\u001b[0;34m:\u001b[0m\u001b[0;34m\u001b[0m\u001b[0m\n\u001b[1;32m     25\u001b[0m         \u001b[0;32mprint\u001b[0m \u001b[0;34m\"CPU wins\"\u001b[0m\u001b[0;34m\u001b[0m\u001b[0m\n",
      "\u001b[0;32m<ipython-input-40-e13f635a4281>\u001b[0m in \u001b[0;36mplay_game\u001b[0;34m(game, *players)\u001b[0m\n\u001b[1;32m      6\u001b[0m             \u001b[0;32mfor\u001b[0m \u001b[0mplayer\u001b[0m \u001b[0;32min\u001b[0m \u001b[0mplayers\u001b[0m\u001b[0;34m:\u001b[0m\u001b[0;34m\u001b[0m\u001b[0m\n\u001b[1;32m      7\u001b[0m                 \u001b[0;32mprint\u001b[0m \u001b[0mstr\u001b[0m\u001b[0;34m(\u001b[0m\u001b[0mplayer\u001b[0m\u001b[0;34m)\u001b[0m\u001b[0;34m\u001b[0m\u001b[0m\n\u001b[0;32m----> 8\u001b[0;31m                 \u001b[0mmove\u001b[0m \u001b[0;34m=\u001b[0m \u001b[0mplayer\u001b[0m\u001b[0;34m(\u001b[0m\u001b[0mgame\u001b[0m\u001b[0;34m,\u001b[0m \u001b[0mstate\u001b[0m\u001b[0;34m)\u001b[0m\u001b[0;34m\u001b[0m\u001b[0m\n\u001b[0m\u001b[1;32m      9\u001b[0m                 \u001b[0mstate\u001b[0m \u001b[0;34m=\u001b[0m \u001b[0mgame\u001b[0m\u001b[0;34m.\u001b[0m\u001b[0mmake_move\u001b[0m\u001b[0;34m(\u001b[0m\u001b[0mmove\u001b[0m\u001b[0;34m,\u001b[0m \u001b[0mstate\u001b[0m\u001b[0;34m)\u001b[0m\u001b[0;34m\u001b[0m\u001b[0m\n\u001b[1;32m     10\u001b[0m                 \u001b[0;32mprint\u001b[0m\u001b[0;34m(\u001b[0m\u001b[0mstate\u001b[0m\u001b[0;34m)\u001b[0m\u001b[0;34m\u001b[0m\u001b[0m\n",
      "\u001b[0;32m<ipython-input-38-c5331a5d8a4c>\u001b[0m in \u001b[0;36msmart_player_three_last_stone\u001b[0;34m(game, state)\u001b[0m\n\u001b[1;32m     14\u001b[0m \u001b[0;34m\u001b[0m\u001b[0m\n\u001b[1;32m     15\u001b[0m \u001b[0;32mdef\u001b[0m \u001b[0msmart_player_three_last_stone\u001b[0m\u001b[0;34m(\u001b[0m\u001b[0mgame\u001b[0m\u001b[0;34m,\u001b[0m \u001b[0mstate\u001b[0m\u001b[0;34m)\u001b[0m\u001b[0;34m:\u001b[0m\u001b[0;34m\u001b[0m\u001b[0m\n\u001b[0;32m---> 16\u001b[0;31m     \u001b[0;32mreturn\u001b[0m \u001b[0malphabeta_search\u001b[0m\u001b[0;34m(\u001b[0m\u001b[0mstate\u001b[0m\u001b[0;34m,\u001b[0m \u001b[0mgame\u001b[0m\u001b[0;34m,\u001b[0m \u001b[0mfloat\u001b[0m\u001b[0;34m(\u001b[0m\u001b[0;34m'inf'\u001b[0m\u001b[0;34m)\u001b[0m\u001b[0;34m,\u001b[0m\u001b[0mNone\u001b[0m\u001b[0;34m,\u001b[0m \u001b[0meval_fn_three_heap_last_stone\u001b[0m\u001b[0;34m)\u001b[0m\u001b[0;34m\u001b[0m\u001b[0m\n\u001b[0m\u001b[1;32m     17\u001b[0m \u001b[0;34m\u001b[0m\u001b[0m\n\u001b[1;32m     18\u001b[0m \u001b[0;32mdef\u001b[0m \u001b[0msmart_player_open_field_tic_tac_toe\u001b[0m\u001b[0;34m(\u001b[0m \u001b[0mgame\u001b[0m\u001b[0;34m,\u001b[0m \u001b[0mstate\u001b[0m\u001b[0;34m)\u001b[0m\u001b[0;34m:\u001b[0m\u001b[0;34m\u001b[0m\u001b[0m\n",
      "\u001b[0;32m<ipython-input-36-b5fbafc6a3de>\u001b[0m in \u001b[0;36malphabeta_search\u001b[0;34m(state, game, d, cutoff_test, eval_fn)\u001b[0m\n\u001b[1;32m     31\u001b[0m         \u001b[0meval_fn\u001b[0m \u001b[0;34m=\u001b[0m \u001b[0meval_fn\u001b[0m \u001b[0;32mor\u001b[0m \u001b[0;34m(\u001b[0m\u001b[0;32mlambda\u001b[0m \u001b[0mstate\u001b[0m\u001b[0;34m,\u001b[0m \u001b[0mplayer\u001b[0m\u001b[0;34m:\u001b[0m \u001b[0mgame\u001b[0m\u001b[0;34m.\u001b[0m\u001b[0mutility\u001b[0m\u001b[0;34m(\u001b[0m\u001b[0mstate\u001b[0m\u001b[0;34m,\u001b[0m \u001b[0mplayer\u001b[0m\u001b[0;34m)\u001b[0m\u001b[0;34m)\u001b[0m\u001b[0;34m\u001b[0m\u001b[0m\n\u001b[1;32m     32\u001b[0m         action, state = argmax(game.successors(state),\n\u001b[0;32m---> 33\u001b[0;31m                                lambda ((a, s)): min_value(s, -float('inf'), float('inf'), 0))\n\u001b[0m\u001b[1;32m     34\u001b[0m         \u001b[0;32mprint\u001b[0m\u001b[0;34m(\u001b[0m\u001b[0maction\u001b[0m\u001b[0;34m)\u001b[0m\u001b[0;34m\u001b[0m\u001b[0m\n\u001b[1;32m     35\u001b[0m         \u001b[0;32mreturn\u001b[0m \u001b[0maction\u001b[0m\u001b[0;34m\u001b[0m\u001b[0m\n",
      "\u001b[0;32m<ipython-input-35-a0151000ee16>\u001b[0m in \u001b[0;36margmax\u001b[0;34m(seq, fn)\u001b[0m\n\u001b[1;32m     15\u001b[0m     \u001b[0;34m'three'\u001b[0m\u001b[0;34m\u001b[0m\u001b[0m\n\u001b[1;32m     16\u001b[0m     \"\"\"\n\u001b[0;32m---> 17\u001b[0;31m     \u001b[0;32mreturn\u001b[0m \u001b[0margmin\u001b[0m\u001b[0;34m(\u001b[0m\u001b[0mseq\u001b[0m\u001b[0;34m,\u001b[0m \u001b[0;32mlambda\u001b[0m \u001b[0mx\u001b[0m\u001b[0;34m:\u001b[0m \u001b[0;34m-\u001b[0m\u001b[0mfn\u001b[0m\u001b[0;34m(\u001b[0m\u001b[0mx\u001b[0m\u001b[0;34m)\u001b[0m\u001b[0;34m)\u001b[0m\u001b[0;34m\u001b[0m\u001b[0m\n\u001b[0m",
      "\u001b[0;32m<ipython-input-35-a0151000ee16>\u001b[0m in \u001b[0;36margmin\u001b[0;34m(seq, fn)\u001b[0m\n\u001b[1;32m      4\u001b[0m     \u001b[0;34m'to'\u001b[0m\u001b[0;34m\u001b[0m\u001b[0m\n\u001b[1;32m      5\u001b[0m     \"\"\"\n\u001b[0;32m----> 6\u001b[0;31m     \u001b[0mbest\u001b[0m \u001b[0;34m=\u001b[0m \u001b[0mseq\u001b[0m\u001b[0;34m[\u001b[0m\u001b[0;36m0\u001b[0m\u001b[0;34m]\u001b[0m\u001b[0;34m;\u001b[0m \u001b[0mbest_score\u001b[0m \u001b[0;34m=\u001b[0m \u001b[0mfn\u001b[0m\u001b[0;34m(\u001b[0m\u001b[0mbest\u001b[0m\u001b[0;34m)\u001b[0m\u001b[0;34m\u001b[0m\u001b[0m\n\u001b[0m\u001b[1;32m      7\u001b[0m     \u001b[0;32mfor\u001b[0m \u001b[0mx\u001b[0m \u001b[0;32min\u001b[0m \u001b[0mseq\u001b[0m\u001b[0;34m:\u001b[0m\u001b[0;34m\u001b[0m\u001b[0m\n\u001b[1;32m      8\u001b[0m         \u001b[0mx_score\u001b[0m \u001b[0;34m=\u001b[0m \u001b[0mfn\u001b[0m\u001b[0;34m(\u001b[0m\u001b[0mx\u001b[0m\u001b[0;34m)\u001b[0m\u001b[0;34m\u001b[0m\u001b[0m\n",
      "\u001b[0;32m<ipython-input-35-a0151000ee16>\u001b[0m in \u001b[0;36m<lambda>\u001b[0;34m(x)\u001b[0m\n\u001b[1;32m     15\u001b[0m     \u001b[0;34m'three'\u001b[0m\u001b[0;34m\u001b[0m\u001b[0m\n\u001b[1;32m     16\u001b[0m     \"\"\"\n\u001b[0;32m---> 17\u001b[0;31m     \u001b[0;32mreturn\u001b[0m \u001b[0margmin\u001b[0m\u001b[0;34m(\u001b[0m\u001b[0mseq\u001b[0m\u001b[0;34m,\u001b[0m \u001b[0;32mlambda\u001b[0m \u001b[0mx\u001b[0m\u001b[0;34m:\u001b[0m \u001b[0;34m-\u001b[0m\u001b[0mfn\u001b[0m\u001b[0;34m(\u001b[0m\u001b[0mx\u001b[0m\u001b[0;34m)\u001b[0m\u001b[0;34m)\u001b[0m\u001b[0;34m\u001b[0m\u001b[0m\n\u001b[0m",
      "\u001b[0;32m<ipython-input-36-b5fbafc6a3de>\u001b[0m in \u001b[0;36m<lambda>\u001b[0;34m((a, s))\u001b[0m\n\u001b[1;32m     31\u001b[0m         \u001b[0meval_fn\u001b[0m \u001b[0;34m=\u001b[0m \u001b[0meval_fn\u001b[0m \u001b[0;32mor\u001b[0m \u001b[0;34m(\u001b[0m\u001b[0;32mlambda\u001b[0m \u001b[0mstate\u001b[0m\u001b[0;34m,\u001b[0m \u001b[0mplayer\u001b[0m\u001b[0;34m:\u001b[0m \u001b[0mgame\u001b[0m\u001b[0;34m.\u001b[0m\u001b[0mutility\u001b[0m\u001b[0;34m(\u001b[0m\u001b[0mstate\u001b[0m\u001b[0;34m,\u001b[0m \u001b[0mplayer\u001b[0m\u001b[0;34m)\u001b[0m\u001b[0;34m)\u001b[0m\u001b[0;34m\u001b[0m\u001b[0m\n\u001b[1;32m     32\u001b[0m         action, state = argmax(game.successors(state),\n\u001b[0;32m---> 33\u001b[0;31m                                lambda ((a, s)): min_value(s, -float('inf'), float('inf'), 0))\n\u001b[0m\u001b[1;32m     34\u001b[0m         \u001b[0;32mprint\u001b[0m\u001b[0;34m(\u001b[0m\u001b[0maction\u001b[0m\u001b[0;34m)\u001b[0m\u001b[0;34m\u001b[0m\u001b[0m\n\u001b[1;32m     35\u001b[0m         \u001b[0;32mreturn\u001b[0m \u001b[0maction\u001b[0m\u001b[0;34m\u001b[0m\u001b[0m\n",
      "\u001b[0;32m<ipython-input-36-b5fbafc6a3de>\u001b[0m in \u001b[0;36mmin_value\u001b[0;34m(state, alpha, beta, depth)\u001b[0m\n\u001b[1;32m     16\u001b[0m         \u001b[0;32mdef\u001b[0m \u001b[0mmin_value\u001b[0m\u001b[0;34m(\u001b[0m\u001b[0mstate\u001b[0m\u001b[0;34m,\u001b[0m \u001b[0malpha\u001b[0m\u001b[0;34m,\u001b[0m \u001b[0mbeta\u001b[0m\u001b[0;34m,\u001b[0m \u001b[0mdepth\u001b[0m\u001b[0;34m)\u001b[0m\u001b[0;34m:\u001b[0m\u001b[0;34m\u001b[0m\u001b[0m\n\u001b[1;32m     17\u001b[0m             \u001b[0;32mif\u001b[0m \u001b[0mcutoff_test\u001b[0m \u001b[0;34m!=\u001b[0m \u001b[0mNone\u001b[0m\u001b[0;34m:\u001b[0m\u001b[0;34m\u001b[0m\u001b[0m\n\u001b[0;32m---> 18\u001b[0;31m                 \u001b[0;32mreturn\u001b[0m \u001b[0meval_fn\u001b[0m\u001b[0;34m(\u001b[0m\u001b[0mstate\u001b[0m\u001b[0;34m,\u001b[0m \u001b[0mplayer\u001b[0m\u001b[0;34m)\u001b[0m\u001b[0;34m\u001b[0m\u001b[0m\n\u001b[0m\u001b[1;32m     19\u001b[0m             \u001b[0mv\u001b[0m \u001b[0;34m=\u001b[0m \u001b[0meval_fn\u001b[0m\u001b[0;34m(\u001b[0m\u001b[0mstate\u001b[0m\u001b[0;34m,\u001b[0m \u001b[0mplayer\u001b[0m\u001b[0;34m)\u001b[0m\u001b[0;34m\u001b[0m\u001b[0m\n\u001b[1;32m     20\u001b[0m             \u001b[0;32mfor\u001b[0m \u001b[0;34m(\u001b[0m\u001b[0ma\u001b[0m\u001b[0;34m,\u001b[0m \u001b[0ms\u001b[0m\u001b[0;34m)\u001b[0m \u001b[0;32min\u001b[0m \u001b[0mgame\u001b[0m\u001b[0;34m.\u001b[0m\u001b[0msuccessors\u001b[0m\u001b[0;34m(\u001b[0m\u001b[0mstate\u001b[0m\u001b[0;34m)\u001b[0m\u001b[0;34m:\u001b[0m\u001b[0;34m\u001b[0m\u001b[0m\n",
      "\u001b[0;32m<ipython-input-39-bb17780eb731>\u001b[0m in \u001b[0;36meval_fn_three_heap_last_stone\u001b[0;34m(state, player)\u001b[0m\n\u001b[1;32m     61\u001b[0m             \u001b[0maux\u001b[0m \u001b[0;34m=\u001b[0m \u001b[0;36m0\u001b[0m\u001b[0;34m;\u001b[0m\u001b[0;34m\u001b[0m\u001b[0m\n\u001b[1;32m     62\u001b[0m             \u001b[0;32mif\u001b[0m\u001b[0;34m(\u001b[0m\u001b[0mlen\u001b[0m\u001b[0;34m(\u001b[0m\u001b[0mbinaryRepresentationFirst\u001b[0m\u001b[0;34m)\u001b[0m \u001b[0;34m>\u001b[0m \u001b[0mcount\u001b[0m\u001b[0;34m)\u001b[0m\u001b[0;34m:\u001b[0m\u001b[0;34m\u001b[0m\u001b[0m\n\u001b[0;32m---> 63\u001b[0;31m                 \u001b[0maux\u001b[0m \u001b[0;34m+=\u001b[0m \u001b[0mfloat\u001b[0m\u001b[0;34m(\u001b[0m\u001b[0mbinaryRepresentationFirst\u001b[0m\u001b[0;34m[\u001b[0m\u001b[0mcount\u001b[0m\u001b[0;34m]\u001b[0m\u001b[0;34m)\u001b[0m\u001b[0;34m\u001b[0m\u001b[0m\n\u001b[0m\u001b[1;32m     64\u001b[0m             \u001b[0;32mif\u001b[0m\u001b[0;34m(\u001b[0m\u001b[0mlen\u001b[0m\u001b[0;34m(\u001b[0m\u001b[0mbinaryRepresentationSecond\u001b[0m\u001b[0;34m)\u001b[0m \u001b[0;34m>\u001b[0m \u001b[0mcount\u001b[0m\u001b[0;34m)\u001b[0m\u001b[0;34m:\u001b[0m\u001b[0;34m\u001b[0m\u001b[0m\n\u001b[1;32m     65\u001b[0m                 \u001b[0maux\u001b[0m \u001b[0;34m+=\u001b[0m \u001b[0mfloat\u001b[0m\u001b[0;34m(\u001b[0m\u001b[0mbinaryRepresentationSecond\u001b[0m\u001b[0;34m[\u001b[0m\u001b[0mcount\u001b[0m\u001b[0;34m]\u001b[0m\u001b[0;34m)\u001b[0m\u001b[0;34m\u001b[0m\u001b[0m\n",
      "\u001b[0;31mValueError\u001b[0m: could not convert string to float: -"
     ]
    }
   ],
   "source": []
  },
  {
   "cell_type": "code",
   "execution_count": null,
   "metadata": {
    "collapsed": true
   },
   "outputs": [],
   "source": []
  }
 ],
 "metadata": {
  "kernelspec": {
   "display_name": "Python 2 (SageMath)",
   "language": "python",
   "name": "python2"
  },
  "language_info": {
   "codemirror_mode": {
    "name": "ipython",
    "version": 2
   },
   "file_extension": ".py",
   "mimetype": "text/x-python",
   "name": "python",
   "nbconvert_exporter": "python",
   "pygments_lexer": "ipython2",
   "version": "2.7.13"
  }
 },
 "nbformat": 4,
 "nbformat_minor": 0
}
